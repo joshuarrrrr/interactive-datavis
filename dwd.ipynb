{
 "cells": [
  {
   "cell_type": "code",
   "execution_count": 1,
   "metadata": {},
   "outputs": [],
   "source": [
    "from wetterdienst import Wetterdienst\n",
    "from wetterdienst.provider.dwd.observation import DwdObservationRequest\n",
    "import geopandas"
   ]
  },
  {
   "cell_type": "code",
   "execution_count": null,
   "metadata": {},
   "outputs": [],
   "source": [
    "DWD = Wetterdienst(provider=\"dwd\", network=\"observation\")\n",
    "request = DwdObservationRequest(\n",
    "    parameter=[\"climate_summary\"],\n",
    "    resolution=\"daily\",\n",
    "    period=\"recent\"\n",
    ")"
   ]
  },
  {
   "cell_type": "code",
   "execution_count": null,
   "metadata": {},
   "outputs": [],
   "source": [
    "stations = request.all().df\n",
    "data = request.all().values.all().df"
   ]
  }
 ],
 "metadata": {
  "kernelspec": {
   "display_name": "Python 3.10.5 ('wetterdienst')",
   "language": "python",
   "name": "python3"
  },
  "language_info": {
   "codemirror_mode": {
    "name": "ipython",
    "version": 3
   },
   "file_extension": ".py",
   "mimetype": "text/x-python",
   "name": "python",
   "nbconvert_exporter": "python",
   "pygments_lexer": "ipython3",
   "version": "3.10.5"
  },
  "orig_nbformat": 4,
  "vscode": {
   "interpreter": {
    "hash": "2398f46eb9202efe3d18ef47999535c4eeef7729c417ad19b8cc5a18b1218430"
   }
  }
 },
 "nbformat": 4,
 "nbformat_minor": 2
}
